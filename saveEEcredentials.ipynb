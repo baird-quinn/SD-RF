{
  "nbformat": 4,
  "nbformat_minor": 0,
  "metadata": {
    "colab": {
      "provenance": [],
      "toc_visible": true
    },
    "kernelspec": {
      "name": "python3",
      "display_name": "Python 3"
    },
    "language_info": {
      "name": "python"
    }
  },
  "cells": [
    {
      "cell_type": "markdown",
      "source": [
        "# Getting EE link setup"
      ],
      "metadata": {
        "id": "KcyjROaeZB2c"
      }
    },
    {
      "cell_type": "markdown",
      "source": [
        "Create EE auth file so don't have to authenticate every time\n"
      ],
      "metadata": {
        "id": "PJ3Aw94-PEDP"
      }
    },
    {
      "cell_type": "code",
      "execution_count": null,
      "metadata": {
        "id": "HxVrPuiCKCQR"
      },
      "outputs": [],
      "source": [
        "import ee\n",
        "\n",
        "# go through first time typical way with link. Copy and submit code\n",
        "ee.Authenticate()\n",
        "ee.Initialize()"
      ]
    },
    {
      "cell_type": "code",
      "source": [
        "from google.colab import drive\n",
        "\n",
        "# Mount Google Drive\n",
        "drive.mount('/content/gdrive', force_remount=True)\n",
        "\n",
        "# Copy the credentials to Google Drive\n",
        "!cp /root/.config/earthengine/credentials /content/gdrive/My\\ Drive/earthengine-credentials\n"
      ],
      "metadata": {
        "id": "pA9qJ0XDT01-"
      },
      "execution_count": null,
      "outputs": []
    }
  ]
}